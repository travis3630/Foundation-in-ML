{
  "nbformat": 4,
  "nbformat_minor": 0,
  "metadata": {
    "colab": {
      "name": "ML lab2 Softmax Regression 2a.ipynb",
      "provenance": [],
      "collapsed_sections": [],
      "toc_visible": true,
      "authorship_tag": "ABX9TyMmo0XIIKVY5Z5UznnITXrL",
      "include_colab_link": true
    },
    "kernelspec": {
      "name": "python3",
      "display_name": "Python 3"
    }
  },
  "cells": [
    {
      "cell_type": "markdown",
      "metadata": {
        "id": "view-in-github",
        "colab_type": "text"
      },
      "source": [
        "<a href=\"https://colab.research.google.com/github/travis3630/Foundation-in-ML/blob/main/ML_lab2_Softmax_Regression_2a.ipynb\" target=\"_parent\"><img src=\"https://colab.research.google.com/assets/colab-badge.svg\" alt=\"Open In Colab\"/></a>"
      ]
    },
    {
      "cell_type": "code",
      "metadata": {
        "id": "uLZb2Ip03Wq7"
      },
      "source": [
        "import numpy as np\n",
        "import matplotlib.pyplot as plt\n",
        "from matplotlib import cm\n",
        "import jax.numpy as jnp\n",
        "from jax import grad\n",
        "from jax import random"
      ],
      "execution_count": 1,
      "outputs": []
    },
    {
      "cell_type": "code",
      "metadata": {
        "id": "SdAXZ5VD6iA8"
      },
      "source": [
        "def softmax_prob_forloop(W, b, inputs): # output is datalen-by-C (NumPy, no JAX here)\n",
        "    # inputs is dim-by-datalen\n",
        "    # b is C-dimensional vector W is (C-by-dim)\n",
        "    dim, datalen = np.shape(inputs) # how many dimensions, points\n",
        "    c = len(b) # number of classes, C, each class has a bias \n",
        "    score = np.zeros((c, datalen))\n",
        "    for ci in range(c):\n",
        "        for lj in range(datalen):\n",
        "            score[ci, lj] = b[ci]\n",
        "            for dk in range(dim):\n",
        "                score[ci, lj] += W[ci, dk]*inputs[dk, lj]\n",
        "    maxes = np.zeros(datalen)\n",
        "    for lj in range(datalen):\n",
        "        maxes[lj] = np.max(score[:, lj])\n",
        "    for ci in range(c):\n",
        "        for lj in range(datalen):\n",
        "            score[ci, lj] = score[ci, lj] - maxes[lj]\n",
        "    # subtract off the largest score from the bias of each class \n",
        "    # This is for stability to underflow/overflow when exponentiating\n",
        "    expscore = np.exp(score)\n",
        "    norm_factor = np.diag(1/np.sum(expscore, axis=0))\n",
        "    return np.dot(expscore, norm_factor).T  \n",
        "\n",
        "\n",
        "# below we convert the same steps into vector form, hence no for loops\n",
        "\n",
        "def softmax_prob1(W, b, inputs):  # output is datalen-by-C\n",
        "    # inputs is dim-by-datalen\n",
        "    # b is C-dimensional vector W is (C-by-dim)\n",
        "    # Make sure all numerical operations are from JAX, so 'jnp', not 'np'\n",
        "    datalen = jnp.shape(inputs)[1] # how many points\n",
        "    c = len(b) # number of classes, C, each class has a bias \n",
        "    linear_part = jnp.dot(W, inputs) # (C-by-dim)*(dim-by-datalen) = C-by-datalen\n",
        "    large = jnp.max(linear_part, axis=0) # largest of the class scores for each data point\n",
        "    bias_offset = jnp.dot(jnp.diag(b),jnp.ones((c, datalen))) # (C-by-C)*(C-by-L)\n",
        "    # subtract off the largest score from the bias of each class for stability to underflow/overflow\n",
        "    large_offset = jnp.dot(np.ones((c, datalen)),jnp.diag(large)) #  (C-by-L)*(L-by-L)    \n",
        "    expscore = jnp.exp(linear_part + bias_offset - large_offset)\n",
        "    norm_factor = jnp.diag(1/jnp.sum(expscore, axis=0))\n",
        "    return jnp.dot(expscore, norm_factor).T "
      ],
      "execution_count": 2,
      "outputs": []
    },
    {
      "cell_type": "code",
      "metadata": {
        "id": "c2le65eSHlVQ"
      },
      "source": [
        "def softmax_prob(W, inputs):  \n",
        "    # output is datalen-by-C\n",
        "    # inputs is (dim)-by-datalen\n",
        "    # W is C-by-(dim+1)\n",
        "    # Make sure all numerical operations are from JAX, so 'jnp', not 'np'\n",
        "    datalen = jnp.shape(inputs)[1] # how many points\n",
        "    c = len(W) # number of classes, C, each class has a bias\n",
        "    inputs = jnp.concatenate((jnp.ones((1,datalen)), inputs), axis=0)\n",
        "    # create inputs (dim+1)-by-datalen \n",
        "    score = jnp.dot(W,inputs) \n",
        "    # (C-by-(1+dim))*((1+dim)-by-datalen) = C-by-datalen\n",
        "    large = jnp.max(score, axis=0) # largest of the class scores for each data point\n",
        "    # subtract off the largest score from the bias of each class for stability to underflow/overflow\n",
        "    large_offset = jnp.dot(np.ones((c, datalen)),jnp.diag(large)) #  (C-by-L)*(L-by-L)    \n",
        "    expscore = jnp.exp(score  - large_offset)\n",
        "    norm_factor = jnp.diag(1/jnp.sum(expscore, axis=0))\n",
        "    return jnp.dot(expscore, norm_factor).T  "
      ],
      "execution_count": 3,
      "outputs": []
    },
    {
      "cell_type": "code",
      "metadata": {
        "id": "CgtBkOLeHqWn"
      },
      "source": [
        "def softmax_xentropy(Wb, inputs, targets, num_classes):\n",
        "    epsilon = 1e-8\n",
        "    ys = get_one_hot(targets, num_classes)\n",
        "    logprobs = -jnp.log(softmax_prob(Wb, inputs)+epsilon)\n",
        "    return jnp.mean(ys*logprobs)"
      ],
      "execution_count": 4,
      "outputs": []
    },
    {
      "cell_type": "code",
      "metadata": {
        "id": "4gaLnUcRHrAU"
      },
      "source": [
        "def get_one_hot(targets, num_classes):\n",
        "    res = jnp.eye(num_classes)[jnp.array(targets).reshape(-1)]\n",
        "    return res.reshape(list(targets.shape)+[num_classes])"
      ],
      "execution_count": 5,
      "outputs": []
    },
    {
      "cell_type": "code",
      "metadata": {
        "id": "SNfX2G7THyuW",
        "outputId": "3025b42d-2fc6-4fb0-a464-40f528c4d9e3",
        "colab": {
          "base_uri": "https://localhost:8080/",
          "height": 51
        }
      },
      "source": [
        "Wb = jnp.array([[-3., 1.3, 2.0, -1.0], [-6., -2., -3., 1.5], [1., 2.0, 2.0, 2.5], [3., 4.0, 4.0, -2.5]])\n",
        "# Build a toy dataset: 6 3-dim points with C=4  targets dim-by-datalen\n",
        "inputs = jnp.array([[0.52, 1.12,  0.77],\n",
        "                    [3.82, -6.11, 3.15],\n",
        "                   [0.88, -1.08, 0.15],\n",
        "                   [0.52, 0.06, -1.30],\n",
        "                   [0.74, -2.49, 1.39],\n",
        "                   [0.14, -0.43, -1.69]]).T # transpose to make it a dim-by-datalen array\n",
        "targets = jnp.array([0, 1, 3, 2, 1, 2])"
      ],
      "execution_count": 6,
      "outputs": [
        {
          "output_type": "stream",
          "text": [
            "/usr/local/lib/python3.6/dist-packages/jax/lib/xla_bridge.py:130: UserWarning: No GPU/TPU found, falling back to CPU.\n",
            "  warnings.warn('No GPU/TPU found, falling back to CPU.')\n"
          ],
          "name": "stderr"
        }
      ]
    },
    {
      "cell_type": "code",
      "metadata": {
        "id": "XXsTLGtFH7NJ",
        "outputId": "a2e9c2a8-0453-4d8f-ef76-7b68b4bd784e",
        "colab": {
          "base_uri": "https://localhost:8080/",
          "height": 85
        }
      },
      "source": [
        "# Initialize random model coefficients\n",
        "key = random.PRNGKey(0)\n",
        "key, W_key= random.split(key, 2)\n",
        "[classes, dim] = 4, 3\n",
        "Winit = random.normal(W_key, (classes, dim+1))\n",
        "print(Winit)"
      ],
      "execution_count": 7,
      "outputs": [
        {
          "output_type": "stream",
          "text": [
            "[[ 0.20820066 -1.0580499  -0.29374585 -0.44117254]\n",
            " [ 0.2366984  -0.03426386 -1.0025561   1.1560111 ]\n",
            " [-0.5381381  -0.48968917  0.24939033 -1.4128867 ]\n",
            " [ 1.8543106   0.22756499  0.49751544 -2.089685  ]]\n"
          ],
          "name": "stdout"
        }
      ]
    },
    {
      "cell_type": "code",
      "metadata": {
        "id": "rYD5ZGMzgDAs"
      },
      "source": [
        "def grad_descent(Wb, inputs, targets, num_classes,  lrate, nsteps):\n",
        "    W1 = Wb\n",
        "    Whist = [W1]\n",
        "    losshist = [softmax_xentropy(W1,inputs, targets, num_classes )]\n",
        "    eta = lrate # learning rate\n",
        "    for i in range(nsteps):        \n",
        "        gWb = grad(softmax_xentropy, (0))(W1, inputs, targets, num_classes)\n",
        "        W1 = W1 - eta*gWb\n",
        "        if (i%5 ==0):\n",
        "            Whist.append(W1)\n",
        "            losshist.append(softmax_xentropy(W1, inputs, targets, num_classes))\n",
        "    Whist.append(W1)\n",
        "    losshist.append(softmax_xentropy(W1, inputs, targets, num_classes))    \n",
        "    return W1, Whist, losshist"
      ],
      "execution_count": 8,
      "outputs": []
    },
    {
      "cell_type": "code",
      "metadata": {
        "id": "AGdrBTTngH2-"
      },
      "source": [
        "W2, Whist, losshist = grad_descent(Winit, inputs, targets, 4, 0.75, 200)\n"
      ],
      "execution_count": 9,
      "outputs": []
    },
    {
      "cell_type": "code",
      "metadata": {
        "id": "Z-eiSIqZgMAI",
        "outputId": "05d28bb4-2203-43ca-9b43-9aef8192972a",
        "colab": {
          "base_uri": "https://localhost:8080/",
          "height": 282
        }
      },
      "source": [
        "plt.plot([5*i for i in range(len(losshist))], losshist)"
      ],
      "execution_count": 10,
      "outputs": [
        {
          "output_type": "execute_result",
          "data": {
            "text/plain": [
              "[<matplotlib.lines.Line2D at 0x7f7a7be93320>]"
            ]
          },
          "metadata": {
            "tags": []
          },
          "execution_count": 10
        },
        {
          "output_type": "display_data",
          "data": {
            "image/png": "[encoded data removed]",
            "text/plain": [
              "<Figure size 432x288 with 1 Axes>"
            ]
          },
          "metadata": {
            "tags": [],
            "needs_background": "light"
          }
        }
      ]
    },
    {
      "cell_type": "code",
      "metadata": {
        "id": "EXw64FXIgPzk",
        "outputId": "5c14fa2a-7c82-43c9-9a19-b097abe6d25b",
        "colab": {
          "base_uri": "https://localhost:8080/",
          "height": 374
        }
      },
      "source": [
        "print('From:\\n',np.around(softmax_prob(Winit, inputs),3))\n",
        "print('To:\\n',np.around(softmax_prob(W2, inputs),3))\n",
        "print('Target:\\n',get_one_hot(targets, 4))"
      ],
      "execution_count": 11,
      "outputs": [
        {
          "output_type": "stream",
          "text": [
            "From:\n",
            " [[0.09  0.243 0.05  0.618]\n",
            " [0.    1.    0.    0.   ]\n",
            " [0.073 0.507 0.028 0.392]\n",
            " [0.011 0.002 0.025 0.962]\n",
            " [0.008 0.99  0.    0.002]\n",
            " [0.013 0.001 0.028 0.957]]\n",
            "To:\n",
            " [[0.951 0.009 0.006 0.034]\n",
            " [0.    0.996 0.    0.004]\n",
            " [0.025 0.13  0.043 0.802]\n",
            " [0.004 0.    0.949 0.047]\n",
            " [0.001 0.926 0.    0.074]\n",
            " [0.    0.    0.979 0.021]]\n",
            "Target:\n",
            " [[1. 0. 0. 0.]\n",
            " [0. 1. 0. 0.]\n",
            " [0. 0. 0. 1.]\n",
            " [0. 0. 1. 0.]\n",
            " [0. 1. 0. 0.]\n",
            " [0. 0. 1. 0.]]\n"
          ],
          "name": "stdout"
        }
      ]
    },
    {
      "cell_type": "code",
      "metadata": {
        "id": "Muzj944LQnDi",
        "outputId": "7aa97799-8150-4385-fe58-ba05832ab49c",
        "colab": {
          "base_uri": "https://localhost:8080/",
          "height": 51
        }
      },
      "source": [
        "######## You code goes here ########\n",
        "input1 = np.random.normal(0, 2,(6, 5))\n",
        "\n",
        "target1 = jnp.array([0, 1, 3, 6, 2])\n",
        "print(input)\n",
        "print(targets)"
      ],
      "execution_count": 12,
      "outputs": [
        {
          "output_type": "stream",
          "text": [
            "<bound method Kernel.raw_input of <google.colab._kernel.Kernel object at 0x7f7aad3ed630>>\n",
            "[0 1 3 2 1 2]\n"
          ],
          "name": "stdout"
        }
      ]
    },
    {
      "cell_type": "code",
      "metadata": {
        "id": "NP9jr6tgTmCG",
        "outputId": "b4b824c3-1b16-4a22-d5b3-9ff18afdc256",
        "colab": {
          "base_uri": "https://localhost:8080/",
          "height": 187
        }
      },
      "source": [
        "# Initialize random model coefficients\n",
        "key = random.PRNGKey(3)\n",
        "key, W_key= random.split(key, 2)\n",
        "[classes, dim] = 5, 6\n",
        "Winit1 = random.normal(W_key, (classes, dim+1))\n",
        "print(Winit1)"
      ],
      "execution_count": 13,
      "outputs": [
        {
          "output_type": "stream",
          "text": [
            "[[-0.686968    0.773368    0.49174884 -0.6715969  -0.03117218  2.3585725\n",
            "  -0.08030237]\n",
            " [ 1.0044307   0.42849985  0.25236854 -0.5371668  -1.2999266   0.42621404\n",
            "  -0.6013335 ]\n",
            " [ 0.64366454 -0.09016193 -0.11567771  0.32708928  1.7033087   0.93371433\n",
            "  -0.5723629 ]\n",
            " [ 0.47008014  1.190262    0.12222908  0.28468987 -0.31269106  0.32497638\n",
            "  -0.35595027]\n",
            " [ 0.3049843   0.07506692  1.34496     0.6725463   0.04175337  0.3846813\n",
            "  -1.0970293 ]]\n"
          ],
          "name": "stdout"
        }
      ]
    },
    {
      "cell_type": "code",
      "metadata": {
        "id": "qWsFM1u2WYlw"
      },
      "source": [
        "W3, Whist3, losshist3 = grad_descent(Winit1, input1, target1, 5, 2.0, 200)\n",
        "W4, Whist4, losshist4 = grad_descent(Winit1, input1, target1, 5, 0.5, 300)"
      ],
      "execution_count": 14,
      "outputs": []
    },
    {
      "cell_type": "code",
      "metadata": {
        "id": "6O5SlVlmYF_V",
        "outputId": "382fc34f-ffff-4e22-c225-43b2a1a03ff5",
        "colab": {
          "base_uri": "https://localhost:8080/",
          "height": 285
        }
      },
      "source": [
        "fig, ax = plt.subplots(figsize=(15,4), nrows=1, ncols=2)\n",
        "ax[0].plot([5*i for i in range(len(losshist3))], losshist3, c='r')\n",
        "ax[0].plot([5*i for i in range(len(losshist4))], losshist4, c='b')\n",
        "ax[1].plot([5*i for i in range(len(losshist4))], losshist4, c='r')"
      ],
      "execution_count": 22,
      "outputs": [
        {
          "output_type": "execute_result",
          "data": {
            "text/plain": [
              "[<matplotlib.lines.Line2D at 0x7f7a733b55c0>]"
            ]
          },
          "metadata": {
            "tags": []
          },
          "execution_count": 22
        },
        {
          "output_type": "display_data",
          "data": {
            "image/png": "[encoded data removed]",
            "text/plain": [
              "<Figure size 1080x288 with 2 Axes>"
            ]
          },
          "metadata": {
            "tags": [],
            "needs_background": "light"
          }
        }
      ]
    }
  ]
}